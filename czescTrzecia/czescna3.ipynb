{
 "cells": [
  {
   "cell_type": "code",
   "id": "fbc121e30a2defb3",
   "metadata": {
    "ExecuteTime": {
     "end_time": "2025-05-20T08:35:43.901277Z",
     "start_time": "2025-05-20T08:35:41.472002Z"
    }
   },
   "source": [
    "import pandas as pd\n",
    "\n",
    "from sklearn.model_selection import train_test_split\n",
    "from sklearn.svm import SVR\n",
    "from sklearn.preprocessing import StandardScaler, OneHotEncoder\n",
    "from sklearn.compose import ColumnTransformer\n",
    "from sklearn.pipeline import Pipeline\n",
    "from sklearn.impute import SimpleImputer\n",
    "from sklearn.ensemble import  RandomForestRegressor\n",
    "from sklearn.linear_model import LinearRegression\n",
    "from sklearn.metrics import  mean_squared_error, r2_score"
   ],
   "outputs": [],
   "execution_count": 1
  },
  {
   "cell_type": "code",
   "id": "a3707cdc1c1adada",
   "metadata": {
    "ExecuteTime": {
     "end_time": "2025-05-20T08:35:44.350768Z",
     "start_time": "2025-05-20T08:35:43.937788Z"
    }
   },
   "source": [
    "data = pd.read_csv(\"data/players_22.csv\", dtype={25: str, 108: str})\n",
    "data = data.drop(columns=[\n",
    "    'player_url',\n",
    "    'player_face_url',\n",
    "    'club_logo_url',\n",
    "    'club_flag_url',\n",
    "    'nation_logo_url',\n",
    "    'nation_flag_url'\n",
    "])\n",
    "Yvalue =   \"overall\"     # \"value_eur\" #\"overall\"\n",
    "testSize = 0.2\n",
    "randomnumber=21\n",
    "data = data[data[Yvalue].notna()]\n",
    "X = data.drop(Yvalue, axis=1)\n",
    "y = data[Yvalue]\n"
   ],
   "outputs": [],
   "execution_count": 2
  },
  {
   "cell_type": "code",
   "id": "946b5b13e12d362c",
   "metadata": {
    "ExecuteTime": {
     "end_time": "2025-05-20T08:35:44.809306Z",
     "start_time": "2025-05-20T08:35:44.794934Z"
    }
   },
   "source": [
    "numerical_cols = X.select_dtypes(include=['int64', 'float64']).columns\n",
    "categorical_cols = X.select_dtypes(include=['object', 'category']).columns"
   ],
   "outputs": [],
   "execution_count": 3
  },
  {
   "cell_type": "code",
   "id": "dd8f9c30",
   "metadata": {
    "ExecuteTime": {
     "end_time": "2025-05-20T08:35:44.905326Z",
     "start_time": "2025-05-20T08:35:44.898536Z"
    }
   },
   "source": [
    "categorical_transformer = Pipeline(steps=[\n",
    "    ('imputer', SimpleImputer(strategy='most_frequent')),\n",
    "    ('onehot', OneHotEncoder(handle_unknown='ignore'))\n",
    "])\n",
    "\n",
    "numeric_transformer = Pipeline(steps=[\n",
    "    ('imputer', SimpleImputer(strategy='mean')),\n",
    "    ('scaler', StandardScaler())\n",
    "])\n",
    "\n",
    "preprocessor = ColumnTransformer(\n",
    "    transformers=[\n",
    "        ('num', numeric_transformer, numerical_cols),\n",
    "        ('cat', categorical_transformer, categorical_cols)\n",
    "])"
   ],
   "outputs": [],
   "execution_count": 4
  },
  {
   "cell_type": "code",
   "id": "600e8bdf",
   "metadata": {
    "ExecuteTime": {
     "end_time": "2025-05-20T08:35:44.974634Z",
     "start_time": "2025-05-20T08:35:44.949969Z"
    }
   },
   "source": [
    "X_train, X_test, y_train, y_test = train_test_split(X, y, test_size=testSize, random_state=randomnumber)"
   ],
   "outputs": [],
   "execution_count": 5
  },
  {
   "cell_type": "code",
   "id": "6b03464067b989e7",
   "metadata": {
    "ExecuteTime": {
     "end_time": "2025-05-20T08:49:42.550736Z",
     "start_time": "2025-05-20T08:35:45.071664Z"
    }
   },
   "source": [
    "rfr = Pipeline(steps=[\n",
    "    ('preprocessor', preprocessor),\n",
    "    ('classifier', RandomForestRegressor(random_state=randomnumber))\n",
    "])\n",
    "\n",
    "rfr.fit(X_train, y_train)\n",
    "y_pred_rfr = rfr.predict(X_test)\n",
    "mse = mean_squared_error(y_test, y_pred_rfr)\n",
    "r2 = r2_score(y_test, y_pred_rfr)\n",
    "\n",
    "print(\"Mean Squared Error (MSE) for Randon ForestRegressor:\", mse)\n",
    "print(\"R2 score for Randon ForestRegressor:\", r2)"
   ],
   "outputs": [
    {
     "name": "stdout",
     "output_type": "stream",
     "text": [
      "Mean Squared Error (MSE) for Randon ForestRegressor: 0.27750608108108116\n",
      "R2 score for Randon ForestRegressor: 0.9941035482598629\n"
     ]
    }
   ],
   "execution_count": 6
  },
  {
   "metadata": {
    "ExecuteTime": {
     "end_time": "2025-05-20T08:49:59.692709Z",
     "start_time": "2025-05-20T08:49:58.516782Z"
    }
   },
   "cell_type": "code",
   "source": [
    "y_pred_rfr = rfr.predict(X_train)\n",
    "mse = mean_squared_error(y_train, y_pred_rfr)\n",
    "r2 = r2_score(y_train, y_pred_rfr)\n",
    "print(\"Mean Squared Error (MSE) for Randon ForestRegressor (Training dataset):\", mse)\n",
    "print(\"R2 score for Randon ForestRegressor (Training dataset):\", r2)"
   ],
   "id": "87b2431e86c9a71",
   "outputs": [
    {
     "name": "stdout",
     "output_type": "stream",
     "text": [
      "Mean Squared Error (MSE) for Randon ForestRegressor (Training dataset): 0.03498185303099213\n",
      "R2 score for Randon ForestRegressor (Training dataset): 0.9992620307190531\n"
     ]
    }
   ],
   "execution_count": 7
  },
  {
   "cell_type": "code",
   "id": "6a8ce969",
   "metadata": {
    "ExecuteTime": {
     "end_time": "2025-05-20T08:50:04.825852Z",
     "start_time": "2025-05-20T08:50:00.826076Z"
    }
   },
   "source": [
    "lr = Pipeline(steps=[\n",
    "    ('preprocessor', preprocessor),\n",
    "    ('regressioon', LinearRegression())\n",
    "])\n",
    "\n",
    "lr.fit(X_train, y_train)\n",
    "y_pred_lr = lr.predict(X_test) \n",
    "mse = mean_squared_error(y_test, y_pred_lr)\n",
    "r2 = r2_score(y_test, y_pred_lr)\n",
    "\n",
    "\n",
    "print(\"Mean Squared Error (MSE) for Linear Regression:\", mse)\n",
    "print(\"R2 score for Linear Regression:\", r2)"
   ],
   "outputs": [
    {
     "name": "stdout",
     "output_type": "stream",
     "text": [
      "Mean Squared Error (MSE) for Linear Regression: 1.5832931403083335\n",
      "R2 score for Linear Regression: 0.9663581729238198\n"
     ]
    }
   ],
   "execution_count": 8
  },
  {
   "metadata": {
    "ExecuteTime": {
     "end_time": "2025-05-20T08:50:05.490853Z",
     "start_time": "2025-05-20T08:50:05.072360Z"
    }
   },
   "cell_type": "code",
   "source": [
    "y_pred_lr = lr.predict(X_train)\n",
    "mse = mean_squared_error(y_train, y_pred_lr)\n",
    "r2 = r2_score(y_train, y_pred_lr)\n",
    "\n",
    "\n",
    "print(\"Mean Squared Error (MSE) for Linear Regression(Training dataset):\", mse)\n",
    "print(\"R2 score for Linear Regression(Training dataset):\", r2)"
   ],
   "id": "8eb9f3271b472496",
   "outputs": [
    {
     "name": "stdout",
     "output_type": "stream",
     "text": [
      "Mean Squared Error (MSE) for Linear Regression(Training dataset): 8.746514921106902e-06\n",
      "R2 score for Linear Regression(Training dataset): 0.9999998154854941\n"
     ]
    }
   ],
   "execution_count": 9
  },
  {
   "cell_type": "code",
   "id": "ebf699fe",
   "metadata": {
    "ExecuteTime": {
     "end_time": "2025-05-20T08:55:17.810015Z",
     "start_time": "2025-05-20T08:50:05.502065Z"
    }
   },
   "source": [
    "svr = Pipeline(steps=[\n",
    "    ('preprocessor', preprocessor),\n",
    "    ('classifier', SVR(kernel='rbf'))\n",
    "])\n",
    "\n",
    "svr.fit(X_train, y_train)\n",
    "y_pred_svr = svr.predict(X_test)\n",
    "\n",
    "mse = mean_squared_error(y_test, y_pred_svr)\n",
    "r2 = r2_score(y_test, y_pred_svr)\n",
    "\n",
    "\n",
    "print(\"Mean Squared Error (MSE) for SVR:\", mse)\n",
    "print(\"R2 score for SVR:\", r2)\n"
   ],
   "outputs": [
    {
     "ename": "KeyboardInterrupt",
     "evalue": "",
     "output_type": "error",
     "traceback": [
      "\u001B[31m---------------------------------------------------------------------------\u001B[39m",
      "\u001B[31mKeyboardInterrupt\u001B[39m                         Traceback (most recent call last)",
      "\u001B[36mCell\u001B[39m\u001B[36m \u001B[39m\u001B[32mIn[10]\u001B[39m\u001B[32m, line 6\u001B[39m\n\u001B[32m      1\u001B[39m svr = Pipeline(steps=[\n\u001B[32m      2\u001B[39m     (\u001B[33m'\u001B[39m\u001B[33mpreprocessor\u001B[39m\u001B[33m'\u001B[39m, preprocessor),\n\u001B[32m      3\u001B[39m     (\u001B[33m'\u001B[39m\u001B[33mclassifier\u001B[39m\u001B[33m'\u001B[39m, SVR(kernel=\u001B[33m'\u001B[39m\u001B[33mrbf\u001B[39m\u001B[33m'\u001B[39m))\n\u001B[32m      4\u001B[39m ])\n\u001B[32m----> \u001B[39m\u001B[32m6\u001B[39m \u001B[43msvr\u001B[49m\u001B[43m.\u001B[49m\u001B[43mfit\u001B[49m\u001B[43m(\u001B[49m\u001B[43mX_train\u001B[49m\u001B[43m,\u001B[49m\u001B[43m \u001B[49m\u001B[43my_train\u001B[49m\u001B[43m)\u001B[49m\n\u001B[32m      7\u001B[39m y_pred_svr = svr.predict(X_test)\n\u001B[32m      9\u001B[39m mse = mean_squared_error(y_test, y_pred_svr)\n",
      "\u001B[36mFile \u001B[39m\u001B[32m~\\miniconda3\\envs\\msidl\\Lib\\site-packages\\sklearn\\base.py:1389\u001B[39m, in \u001B[36m_fit_context.<locals>.decorator.<locals>.wrapper\u001B[39m\u001B[34m(estimator, *args, **kwargs)\u001B[39m\n\u001B[32m   1382\u001B[39m     estimator._validate_params()\n\u001B[32m   1384\u001B[39m \u001B[38;5;28;01mwith\u001B[39;00m config_context(\n\u001B[32m   1385\u001B[39m     skip_parameter_validation=(\n\u001B[32m   1386\u001B[39m         prefer_skip_nested_validation \u001B[38;5;129;01mor\u001B[39;00m global_skip_validation\n\u001B[32m   1387\u001B[39m     )\n\u001B[32m   1388\u001B[39m ):\n\u001B[32m-> \u001B[39m\u001B[32m1389\u001B[39m     \u001B[38;5;28;01mreturn\u001B[39;00m \u001B[43mfit_method\u001B[49m\u001B[43m(\u001B[49m\u001B[43mestimator\u001B[49m\u001B[43m,\u001B[49m\u001B[43m \u001B[49m\u001B[43m*\u001B[49m\u001B[43margs\u001B[49m\u001B[43m,\u001B[49m\u001B[43m \u001B[49m\u001B[43m*\u001B[49m\u001B[43m*\u001B[49m\u001B[43mkwargs\u001B[49m\u001B[43m)\u001B[49m\n",
      "\u001B[36mFile \u001B[39m\u001B[32m~\\miniconda3\\envs\\msidl\\Lib\\site-packages\\sklearn\\pipeline.py:662\u001B[39m, in \u001B[36mPipeline.fit\u001B[39m\u001B[34m(self, X, y, **params)\u001B[39m\n\u001B[32m    656\u001B[39m     \u001B[38;5;28;01mif\u001B[39;00m \u001B[38;5;28mself\u001B[39m._final_estimator != \u001B[33m\"\u001B[39m\u001B[33mpassthrough\u001B[39m\u001B[33m\"\u001B[39m:\n\u001B[32m    657\u001B[39m         last_step_params = \u001B[38;5;28mself\u001B[39m._get_metadata_for_step(\n\u001B[32m    658\u001B[39m             step_idx=\u001B[38;5;28mlen\u001B[39m(\u001B[38;5;28mself\u001B[39m) - \u001B[32m1\u001B[39m,\n\u001B[32m    659\u001B[39m             step_params=routed_params[\u001B[38;5;28mself\u001B[39m.steps[-\u001B[32m1\u001B[39m][\u001B[32m0\u001B[39m]],\n\u001B[32m    660\u001B[39m             all_params=params,\n\u001B[32m    661\u001B[39m         )\n\u001B[32m--> \u001B[39m\u001B[32m662\u001B[39m         \u001B[38;5;28;43mself\u001B[39;49m\u001B[43m.\u001B[49m\u001B[43m_final_estimator\u001B[49m\u001B[43m.\u001B[49m\u001B[43mfit\u001B[49m\u001B[43m(\u001B[49m\u001B[43mXt\u001B[49m\u001B[43m,\u001B[49m\u001B[43m \u001B[49m\u001B[43my\u001B[49m\u001B[43m,\u001B[49m\u001B[43m \u001B[49m\u001B[43m*\u001B[49m\u001B[43m*\u001B[49m\u001B[43mlast_step_params\u001B[49m\u001B[43m[\u001B[49m\u001B[33;43m\"\u001B[39;49m\u001B[33;43mfit\u001B[39;49m\u001B[33;43m\"\u001B[39;49m\u001B[43m]\u001B[49m\u001B[43m)\u001B[49m\n\u001B[32m    664\u001B[39m \u001B[38;5;28;01mreturn\u001B[39;00m \u001B[38;5;28mself\u001B[39m\n",
      "\u001B[36mFile \u001B[39m\u001B[32m~\\miniconda3\\envs\\msidl\\Lib\\site-packages\\sklearn\\base.py:1389\u001B[39m, in \u001B[36m_fit_context.<locals>.decorator.<locals>.wrapper\u001B[39m\u001B[34m(estimator, *args, **kwargs)\u001B[39m\n\u001B[32m   1382\u001B[39m     estimator._validate_params()\n\u001B[32m   1384\u001B[39m \u001B[38;5;28;01mwith\u001B[39;00m config_context(\n\u001B[32m   1385\u001B[39m     skip_parameter_validation=(\n\u001B[32m   1386\u001B[39m         prefer_skip_nested_validation \u001B[38;5;129;01mor\u001B[39;00m global_skip_validation\n\u001B[32m   1387\u001B[39m     )\n\u001B[32m   1388\u001B[39m ):\n\u001B[32m-> \u001B[39m\u001B[32m1389\u001B[39m     \u001B[38;5;28;01mreturn\u001B[39;00m \u001B[43mfit_method\u001B[49m\u001B[43m(\u001B[49m\u001B[43mestimator\u001B[49m\u001B[43m,\u001B[49m\u001B[43m \u001B[49m\u001B[43m*\u001B[49m\u001B[43margs\u001B[49m\u001B[43m,\u001B[49m\u001B[43m \u001B[49m\u001B[43m*\u001B[49m\u001B[43m*\u001B[49m\u001B[43mkwargs\u001B[49m\u001B[43m)\u001B[49m\n",
      "\u001B[36mFile \u001B[39m\u001B[32m~\\miniconda3\\envs\\msidl\\Lib\\site-packages\\sklearn\\svm\\_base.py:258\u001B[39m, in \u001B[36mBaseLibSVM.fit\u001B[39m\u001B[34m(self, X, y, sample_weight)\u001B[39m\n\u001B[32m    255\u001B[39m     \u001B[38;5;28mprint\u001B[39m(\u001B[33m\"\u001B[39m\u001B[33m[LibSVM]\u001B[39m\u001B[33m\"\u001B[39m, end=\u001B[33m\"\u001B[39m\u001B[33m\"\u001B[39m)\n\u001B[32m    257\u001B[39m seed = rnd.randint(np.iinfo(\u001B[33m\"\u001B[39m\u001B[33mi\u001B[39m\u001B[33m\"\u001B[39m).max)\n\u001B[32m--> \u001B[39m\u001B[32m258\u001B[39m \u001B[43mfit\u001B[49m\u001B[43m(\u001B[49m\u001B[43mX\u001B[49m\u001B[43m,\u001B[49m\u001B[43m \u001B[49m\u001B[43my\u001B[49m\u001B[43m,\u001B[49m\u001B[43m \u001B[49m\u001B[43msample_weight\u001B[49m\u001B[43m,\u001B[49m\u001B[43m \u001B[49m\u001B[43msolver_type\u001B[49m\u001B[43m,\u001B[49m\u001B[43m \u001B[49m\u001B[43mkernel\u001B[49m\u001B[43m,\u001B[49m\u001B[43m \u001B[49m\u001B[43mrandom_seed\u001B[49m\u001B[43m=\u001B[49m\u001B[43mseed\u001B[49m\u001B[43m)\u001B[49m\n\u001B[32m    259\u001B[39m \u001B[38;5;66;03m# see comment on the other call to np.iinfo in this file\u001B[39;00m\n\u001B[32m    261\u001B[39m \u001B[38;5;28mself\u001B[39m.shape_fit_ = X.shape \u001B[38;5;28;01mif\u001B[39;00m \u001B[38;5;28mhasattr\u001B[39m(X, \u001B[33m\"\u001B[39m\u001B[33mshape\u001B[39m\u001B[33m\"\u001B[39m) \u001B[38;5;28;01melse\u001B[39;00m (n_samples,)\n",
      "\u001B[36mFile \u001B[39m\u001B[32m~\\miniconda3\\envs\\msidl\\Lib\\site-packages\\sklearn\\svm\\_base.py:377\u001B[39m, in \u001B[36mBaseLibSVM._sparse_fit\u001B[39m\u001B[34m(self, X, y, sample_weight, solver_type, kernel, random_seed)\u001B[39m\n\u001B[32m    363\u001B[39m kernel_type = \u001B[38;5;28mself\u001B[39m._sparse_kernels.index(kernel)\n\u001B[32m    365\u001B[39m libsvm_sparse.set_verbosity_wrap(\u001B[38;5;28mself\u001B[39m.verbose)\n\u001B[32m    367\u001B[39m (\n\u001B[32m    368\u001B[39m     \u001B[38;5;28mself\u001B[39m.support_,\n\u001B[32m    369\u001B[39m     \u001B[38;5;28mself\u001B[39m.support_vectors_,\n\u001B[32m    370\u001B[39m     dual_coef_data,\n\u001B[32m    371\u001B[39m     \u001B[38;5;28mself\u001B[39m.intercept_,\n\u001B[32m    372\u001B[39m     \u001B[38;5;28mself\u001B[39m._n_support,\n\u001B[32m    373\u001B[39m     \u001B[38;5;28mself\u001B[39m._probA,\n\u001B[32m    374\u001B[39m     \u001B[38;5;28mself\u001B[39m._probB,\n\u001B[32m    375\u001B[39m     \u001B[38;5;28mself\u001B[39m.fit_status_,\n\u001B[32m    376\u001B[39m     \u001B[38;5;28mself\u001B[39m._num_iter,\n\u001B[32m--> \u001B[39m\u001B[32m377\u001B[39m ) = \u001B[43mlibsvm_sparse\u001B[49m\u001B[43m.\u001B[49m\u001B[43mlibsvm_sparse_train\u001B[49m\u001B[43m(\u001B[49m\n\u001B[32m    378\u001B[39m \u001B[43m    \u001B[49m\u001B[43mX\u001B[49m\u001B[43m.\u001B[49m\u001B[43mshape\u001B[49m\u001B[43m[\u001B[49m\u001B[32;43m1\u001B[39;49m\u001B[43m]\u001B[49m\u001B[43m,\u001B[49m\n\u001B[32m    379\u001B[39m \u001B[43m    \u001B[49m\u001B[43mX\u001B[49m\u001B[43m.\u001B[49m\u001B[43mdata\u001B[49m\u001B[43m,\u001B[49m\n\u001B[32m    380\u001B[39m \u001B[43m    \u001B[49m\u001B[43mX\u001B[49m\u001B[43m.\u001B[49m\u001B[43mindices\u001B[49m\u001B[43m,\u001B[49m\n\u001B[32m    381\u001B[39m \u001B[43m    \u001B[49m\u001B[43mX\u001B[49m\u001B[43m.\u001B[49m\u001B[43mindptr\u001B[49m\u001B[43m,\u001B[49m\n\u001B[32m    382\u001B[39m \u001B[43m    \u001B[49m\u001B[43my\u001B[49m\u001B[43m,\u001B[49m\n\u001B[32m    383\u001B[39m \u001B[43m    \u001B[49m\u001B[43msolver_type\u001B[49m\u001B[43m,\u001B[49m\n\u001B[32m    384\u001B[39m \u001B[43m    \u001B[49m\u001B[43mkernel_type\u001B[49m\u001B[43m,\u001B[49m\n\u001B[32m    385\u001B[39m \u001B[43m    \u001B[49m\u001B[38;5;28;43mself\u001B[39;49m\u001B[43m.\u001B[49m\u001B[43mdegree\u001B[49m\u001B[43m,\u001B[49m\n\u001B[32m    386\u001B[39m \u001B[43m    \u001B[49m\u001B[38;5;28;43mself\u001B[39;49m\u001B[43m.\u001B[49m\u001B[43m_gamma\u001B[49m\u001B[43m,\u001B[49m\n\u001B[32m    387\u001B[39m \u001B[43m    \u001B[49m\u001B[38;5;28;43mself\u001B[39;49m\u001B[43m.\u001B[49m\u001B[43mcoef0\u001B[49m\u001B[43m,\u001B[49m\n\u001B[32m    388\u001B[39m \u001B[43m    \u001B[49m\u001B[38;5;28;43mself\u001B[39;49m\u001B[43m.\u001B[49m\u001B[43mtol\u001B[49m\u001B[43m,\u001B[49m\n\u001B[32m    389\u001B[39m \u001B[43m    \u001B[49m\u001B[38;5;28;43mself\u001B[39;49m\u001B[43m.\u001B[49m\u001B[43mC\u001B[49m\u001B[43m,\u001B[49m\n\u001B[32m    390\u001B[39m \u001B[43m    \u001B[49m\u001B[38;5;28;43mgetattr\u001B[39;49m\u001B[43m(\u001B[49m\u001B[38;5;28;43mself\u001B[39;49m\u001B[43m,\u001B[49m\u001B[43m \u001B[49m\u001B[33;43m\"\u001B[39;49m\u001B[33;43mclass_weight_\u001B[39;49m\u001B[33;43m\"\u001B[39;49m\u001B[43m,\u001B[49m\u001B[43m \u001B[49m\u001B[43mnp\u001B[49m\u001B[43m.\u001B[49m\u001B[43mempty\u001B[49m\u001B[43m(\u001B[49m\u001B[32;43m0\u001B[39;49m\u001B[43m)\u001B[49m\u001B[43m)\u001B[49m\u001B[43m,\u001B[49m\n\u001B[32m    391\u001B[39m \u001B[43m    \u001B[49m\u001B[43msample_weight\u001B[49m\u001B[43m,\u001B[49m\n\u001B[32m    392\u001B[39m \u001B[43m    \u001B[49m\u001B[38;5;28;43mself\u001B[39;49m\u001B[43m.\u001B[49m\u001B[43mnu\u001B[49m\u001B[43m,\u001B[49m\n\u001B[32m    393\u001B[39m \u001B[43m    \u001B[49m\u001B[38;5;28;43mself\u001B[39;49m\u001B[43m.\u001B[49m\u001B[43mcache_size\u001B[49m\u001B[43m,\u001B[49m\n\u001B[32m    394\u001B[39m \u001B[43m    \u001B[49m\u001B[38;5;28;43mself\u001B[39;49m\u001B[43m.\u001B[49m\u001B[43mepsilon\u001B[49m\u001B[43m,\u001B[49m\n\u001B[32m    395\u001B[39m \u001B[43m    \u001B[49m\u001B[38;5;28;43mint\u001B[39;49m\u001B[43m(\u001B[49m\u001B[38;5;28;43mself\u001B[39;49m\u001B[43m.\u001B[49m\u001B[43mshrinking\u001B[49m\u001B[43m)\u001B[49m\u001B[43m,\u001B[49m\n\u001B[32m    396\u001B[39m \u001B[43m    \u001B[49m\u001B[38;5;28;43mint\u001B[39;49m\u001B[43m(\u001B[49m\u001B[38;5;28;43mself\u001B[39;49m\u001B[43m.\u001B[49m\u001B[43mprobability\u001B[49m\u001B[43m)\u001B[49m\u001B[43m,\u001B[49m\n\u001B[32m    397\u001B[39m \u001B[43m    \u001B[49m\u001B[38;5;28;43mself\u001B[39;49m\u001B[43m.\u001B[49m\u001B[43mmax_iter\u001B[49m\u001B[43m,\u001B[49m\n\u001B[32m    398\u001B[39m \u001B[43m    \u001B[49m\u001B[43mrandom_seed\u001B[49m\u001B[43m,\u001B[49m\n\u001B[32m    399\u001B[39m \u001B[43m\u001B[49m\u001B[43m)\u001B[49m\n\u001B[32m    401\u001B[39m \u001B[38;5;28mself\u001B[39m._warn_from_fit_status()\n\u001B[32m    403\u001B[39m \u001B[38;5;28;01mif\u001B[39;00m \u001B[38;5;28mhasattr\u001B[39m(\u001B[38;5;28mself\u001B[39m, \u001B[33m\"\u001B[39m\u001B[33mclasses_\u001B[39m\u001B[33m\"\u001B[39m):\n",
      "\u001B[36mFile \u001B[39m\u001B[32m_libsvm_sparse.pyx:218\u001B[39m, in \u001B[36msklearn.svm._libsvm_sparse.libsvm_sparse_train\u001B[39m\u001B[34m()\u001B[39m\n",
      "\u001B[36mFile \u001B[39m\u001B[32m~\\miniconda3\\envs\\msidl\\Lib\\site-packages\\scipy\\sparse\\_compressed.py:29\u001B[39m, in \u001B[36m_cs_matrix.__init__\u001B[39m\u001B[34m(self, arg1, shape, dtype, copy, maxprint)\u001B[39m\n\u001B[32m     24\u001B[39m \u001B[38;5;28;01mclass\u001B[39;00m\u001B[38;5;250m \u001B[39m\u001B[34;01m_cs_matrix\u001B[39;00m(_data_matrix, _minmax_mixin, IndexMixin):\n\u001B[32m     25\u001B[39m \u001B[38;5;250m    \u001B[39m\u001B[33;03m\"\"\"\u001B[39;00m\n\u001B[32m     26\u001B[39m \u001B[33;03m    base array/matrix class for compressed row- and column-oriented arrays/matrices\u001B[39;00m\n\u001B[32m     27\u001B[39m \u001B[33;03m    \"\"\"\u001B[39;00m\n\u001B[32m---> \u001B[39m\u001B[32m29\u001B[39m     \u001B[38;5;28;01mdef\u001B[39;00m\u001B[38;5;250m \u001B[39m\u001B[34m__init__\u001B[39m(\u001B[38;5;28mself\u001B[39m, arg1, shape=\u001B[38;5;28;01mNone\u001B[39;00m, dtype=\u001B[38;5;28;01mNone\u001B[39;00m, copy=\u001B[38;5;28;01mFalse\u001B[39;00m, *, maxprint=\u001B[38;5;28;01mNone\u001B[39;00m):\n\u001B[32m     30\u001B[39m         _data_matrix.\u001B[34m__init__\u001B[39m(\u001B[38;5;28mself\u001B[39m, arg1, maxprint=maxprint)\n\u001B[32m     32\u001B[39m         \u001B[38;5;28;01mif\u001B[39;00m issparse(arg1):\n",
      "\u001B[31mKeyboardInterrupt\u001B[39m: "
     ]
    }
   ],
   "execution_count": 10
  },
  {
   "metadata": {
    "ExecuteTime": {
     "end_time": "2025-05-20T08:55:17.917070100Z",
     "start_time": "2025-05-03T12:32:05.007893Z"
    }
   },
   "cell_type": "code",
   "source": [
    "y_pred_svr = svr.predict(X_train)\n",
    "\n",
    "mse = mean_squared_error(y_train, y_pred_svr)\n",
    "r2 = r2_score(y_train, y_pred_svr)\n",
    "\n",
    "\n",
    "print(\"Mean Squared Error (MSE) for SVR(Training dataset):\", mse)\n",
    "print(\"R2 score for SVR(Training dataset):\", r2)"
   ],
   "id": "40f19de77fb20945",
   "outputs": [
    {
     "name": "stdout",
     "output_type": "stream",
     "text": [
      "Mean Squared Error (MSE) for SVR: 0.7627263247320212\n",
      "R2 score for SVR: 0.9839096974959233\n"
     ]
    }
   ],
   "execution_count": 16
  },
  {
   "cell_type": "code",
   "id": "76e7a038",
   "metadata": {
    "ExecuteTime": {
     "end_time": "2025-05-20T08:55:17.917070100Z",
     "start_time": "2025-05-03T11:54:39.438882Z"
    }
   },
   "source": [
    "\n",
    "\n",
    "player_names = X_test['short_name']\n",
    "\n",
    "results = pd.DataFrame({\n",
    "    'Player': player_names,\n",
    "    'True Value': y_test,\n",
    "    'Predicted Value by RFR': y_pred_rfr,\n",
    "    'Predicted Value by LR': y_pred_lr,\n",
    "    'Predicted Value by SVR': y_pred_svr\n",
    "})\n",
    "\n"
   ],
   "outputs": [],
   "execution_count": 11
  },
  {
   "cell_type": "code",
   "id": "b0cbcecb",
   "metadata": {
    "ExecuteTime": {
     "end_time": "2025-05-20T08:55:17.917070100Z",
     "start_time": "2025-05-03T11:54:41.788616Z"
    }
   },
   "source": "results.to_excel('output.xlsx')",
   "outputs": [],
   "execution_count": 12
  }
 ],
 "metadata": {
  "kernelspec": {
   "display_name": "Python 3",
   "language": "python",
   "name": "python3"
  },
  "language_info": {
   "codemirror_mode": {
    "name": "ipython",
    "version": 3
   },
   "file_extension": ".py",
   "mimetype": "text/x-python",
   "name": "python",
   "nbconvert_exporter": "python",
   "pygments_lexer": "ipython3",
   "version": "3.12.6"
  }
 },
 "nbformat": 4,
 "nbformat_minor": 5
}
