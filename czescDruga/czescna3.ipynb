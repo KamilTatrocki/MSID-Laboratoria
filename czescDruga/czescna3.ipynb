{
 "cells": [
  {
   "cell_type": "code",
   "id": "fbc121e30a2defb3",
   "metadata": {
    "ExecuteTime": {
     "end_time": "2025-05-03T11:31:27.363858Z",
     "start_time": "2025-05-03T11:31:24.921185Z"
    }
   },
   "source": [
    "import pandas as pd\n",
    "\n",
    "from sklearn.model_selection import train_test_split\n",
    "from sklearn.svm import SVR\n",
    "from sklearn.preprocessing import StandardScaler, OneHotEncoder\n",
    "from sklearn.compose import ColumnTransformer\n",
    "from sklearn.pipeline import Pipeline\n",
    "from sklearn.impute import SimpleImputer\n",
    "from sklearn.ensemble import  RandomForestRegressor\n",
    "from sklearn.linear_model import LinearRegression\n",
    "from sklearn.metrics import  mean_squared_error, r2_score"
   ],
   "outputs": [],
   "execution_count": 2
  },
  {
   "cell_type": "code",
   "id": "a3707cdc1c1adada",
   "metadata": {
    "ExecuteTime": {
     "end_time": "2025-05-03T11:31:27.793390Z",
     "start_time": "2025-05-03T11:31:27.374268Z"
    }
   },
   "source": [
    "data = pd.read_csv(\"data/players_22.csv\", dtype={25: str, 108: str})\n",
    "data = data.drop(columns=[\n",
    "    'player_url',\n",
    "    'player_face_url',\n",
    "    'club_logo_url',\n",
    "    'club_flag_url',\n",
    "    'nation_logo_url',\n",
    "    'nation_flag_url'\n",
    "])\n",
    "Yvalue =   \"overall\"     # \"value_eur\" #\"overall\"\n",
    "testSize = 0.2\n",
    "randomnumber=21\n",
    "data = data[data[Yvalue].notna()]\n",
    "X = data.drop(Yvalue, axis=1)\n",
    "y = data[Yvalue]\n"
   ],
   "outputs": [],
   "execution_count": 3
  },
  {
   "cell_type": "code",
   "id": "946b5b13e12d362c",
   "metadata": {
    "ExecuteTime": {
     "end_time": "2025-05-03T11:31:27.885979Z",
     "start_time": "2025-05-03T11:31:27.866462Z"
    }
   },
   "source": [
    "numerical_cols = X.select_dtypes(include=['int64', 'float64']).columns\n",
    "categorical_cols = X.select_dtypes(include=['object', 'category']).columns"
   ],
   "outputs": [],
   "execution_count": 4
  },
  {
   "cell_type": "code",
   "id": "dd8f9c30",
   "metadata": {
    "ExecuteTime": {
     "end_time": "2025-05-03T11:31:27.973546Z",
     "start_time": "2025-05-03T11:31:27.962519Z"
    }
   },
   "source": [
    "categorical_transformer = Pipeline(steps=[\n",
    "    ('imputer', SimpleImputer(strategy='most_frequent')),\n",
    "    ('onehot', OneHotEncoder(handle_unknown='ignore'))\n",
    "])\n",
    "\n",
    "numeric_transformer = Pipeline(steps=[\n",
    "    ('imputer', SimpleImputer(strategy='mean')),\n",
    "    ('scaler', StandardScaler())\n",
    "])\n",
    "\n",
    "preprocessor = ColumnTransformer(\n",
    "    transformers=[\n",
    "        ('num', numeric_transformer, numerical_cols),\n",
    "        ('cat', categorical_transformer, categorical_cols)\n",
    "])"
   ],
   "outputs": [],
   "execution_count": 5
  },
  {
   "cell_type": "code",
   "id": "600e8bdf",
   "metadata": {
    "ExecuteTime": {
     "end_time": "2025-05-03T11:31:28.005579Z",
     "start_time": "2025-05-03T11:31:27.981898Z"
    }
   },
   "source": [
    "X_train, X_test, y_train, y_test = train_test_split(X, y, test_size=testSize, random_state=randomnumber)"
   ],
   "outputs": [],
   "execution_count": 6
  },
  {
   "cell_type": "code",
   "id": "6b03464067b989e7",
   "metadata": {
    "ExecuteTime": {
     "end_time": "2025-05-03T11:38:08.095281Z",
     "start_time": "2025-05-03T11:31:28.057681Z"
    }
   },
   "source": [
    "rfr = Pipeline(steps=[\n",
    "    ('preprocessor', preprocessor),\n",
    "    ('classifier', RandomForestRegressor(random_state=randomnumber))\n",
    "])\n",
    "\n",
    "rfr.fit(X_train, y_train)\n",
    "y_pred_rfr = rfr.predict(X_test)\n",
    "mse = mean_squared_error(y_test, y_pred_rfr)\n",
    "r2 = r2_score(y_test, y_pred_rfr)\n",
    "\n",
    "print(\"Mean Squared Error (MSE) for Randon ForestRegressor:\", mse)\n",
    "print(\"R2 score for Randon ForestRegressor:\", r2)"
   ],
   "outputs": [
    {
     "name": "stdout",
     "output_type": "stream",
     "text": [
      "Mean Squared Error (MSE) for Randon ForestRegressor: 0.27750608108108116\n",
      "R2 score for Randon ForestRegressor: 0.9941035482598629\n"
     ]
    }
   ],
   "execution_count": 7
  },
  {
   "metadata": {
    "ExecuteTime": {
     "end_time": "2025-05-03T12:28:02.283839Z",
     "start_time": "2025-05-03T12:28:01.699097Z"
    }
   },
   "cell_type": "code",
   "source": [
    "y_pred_rfr = rfr.predict(X_train)\n",
    "mse = mean_squared_error(y_train, y_pred_rfr)\n",
    "r2 = r2_score(y_train, y_pred_rfr)\n",
    "print(\"Mean Squared Error (MSE) for Randon ForestRegressor (Training dataset):\", mse)\n",
    "print(\"R2 score for Randon ForestRegressor (Training dataset):\", r2)"
   ],
   "id": "87b2431e86c9a71",
   "outputs": [
    {
     "name": "stdout",
     "output_type": "stream",
     "text": [
      "Mean Squared Error (MSE) for Randon ForestRegressor (Training dataset): 0.03498185303099213\n",
      "R2 score for Randon ForestRegressor (Training dataset): 0.9992620307190531\n"
     ]
    }
   ],
   "execution_count": 13
  },
  {
   "cell_type": "code",
   "id": "6a8ce969",
   "metadata": {
    "ExecuteTime": {
     "end_time": "2025-05-03T11:38:11.049387Z",
     "start_time": "2025-05-03T11:38:08.312627Z"
    }
   },
   "source": [
    "lr = Pipeline(steps=[\n",
    "    ('preprocessor', preprocessor),\n",
    "    ('regressioon', LinearRegression())\n",
    "])\n",
    "\n",
    "lr.fit(X_train, y_train)\n",
    "y_pred_lr = lr.predict(X_test) \n",
    "mse = mean_squared_error(y_test, y_pred_lr)\n",
    "r2 = r2_score(y_test, y_pred_lr)\n",
    "\n",
    "\n",
    "print(\"Mean Squared Error (MSE) for Linear Regression:\", mse)\n",
    "print(\"R2 score for Linear Regression:\", r2)"
   ],
   "outputs": [
    {
     "name": "stdout",
     "output_type": "stream",
     "text": [
      "Mean Squared Error (MSE) for Linear Regression: 1.5832931403083335\n",
      "R2 score for Linear Regression: 0.9663581729238198\n"
     ]
    }
   ],
   "execution_count": 8
  },
  {
   "metadata": {
    "ExecuteTime": {
     "end_time": "2025-05-03T12:29:49.727439Z",
     "start_time": "2025-05-03T12:29:49.492388Z"
    }
   },
   "cell_type": "code",
   "source": [
    "y_pred_lr = lr.predict(X_train)\n",
    "mse = mean_squared_error(y_train, y_pred_lr)\n",
    "r2 = r2_score(y_train, y_pred_lr)\n",
    "\n",
    "\n",
    "print(\"Mean Squared Error (MSE) for Linear Regression(Training dataset):\", mse)\n",
    "print(\"R2 score for Linear Regression(Training dataset):\", r2)"
   ],
   "id": "8eb9f3271b472496",
   "outputs": [
    {
     "name": "stdout",
     "output_type": "stream",
     "text": [
      "Mean Squared Error (MSE) for Linear Regression: 8.746514921106902e-06\n",
      "R2 score for Linear Regression: 0.9999998154854941\n"
     ]
    }
   ],
   "execution_count": 14
  },
  {
   "cell_type": "code",
   "id": "ebf699fe",
   "metadata": {
    "ExecuteTime": {
     "end_time": "2025-05-03T11:46:43.670360Z",
     "start_time": "2025-05-03T11:38:34.290912Z"
    }
   },
   "source": [
    "svr = Pipeline(steps=[\n",
    "    ('preprocessor', preprocessor),\n",
    "    ('classifier', SVR(kernel='rbf'))\n",
    "])\n",
    "\n",
    "svr.fit(X_train, y_train)\n",
    "y_pred_svr = svr.predict(X_test)\n",
    "\n",
    "mse = mean_squared_error(y_test, y_pred_svr)\n",
    "r2 = r2_score(y_test, y_pred_svr)\n",
    "\n",
    "\n",
    "print(\"Mean Squared Error (MSE) for SVR:\", mse)\n",
    "print(\"R2 score for SVR:\", r2)\n"
   ],
   "outputs": [
    {
     "name": "stdout",
     "output_type": "stream",
     "text": [
      "Mean Squared Error (MSE) for SVR: 1.1270164352543843\n",
      "R2 score for SVR: 0.9760531445115354\n"
     ]
    }
   ],
   "execution_count": 10
  },
  {
   "metadata": {
    "ExecuteTime": {
     "end_time": "2025-05-03T12:33:44.069093Z",
     "start_time": "2025-05-03T12:32:05.007893Z"
    }
   },
   "cell_type": "code",
   "source": [
    "y_pred_svr = svr.predict(X_train)\n",
    "\n",
    "mse = mean_squared_error(y_train, y_pred_svr)\n",
    "r2 = r2_score(y_train, y_pred_svr)\n",
    "\n",
    "\n",
    "print(\"Mean Squared Error (MSE) for SVR(Training dataset):\", mse)\n",
    "print(\"R2 score for SVR(Training dataset):\", r2)"
   ],
   "id": "40f19de77fb20945",
   "outputs": [
    {
     "name": "stdout",
     "output_type": "stream",
     "text": [
      "Mean Squared Error (MSE) for SVR: 0.7627263247320212\n",
      "R2 score for SVR: 0.9839096974959233\n"
     ]
    }
   ],
   "execution_count": 16
  },
  {
   "cell_type": "code",
   "id": "76e7a038",
   "metadata": {
    "ExecuteTime": {
     "end_time": "2025-05-03T11:54:39.452082Z",
     "start_time": "2025-05-03T11:54:39.438882Z"
    }
   },
   "source": [
    "\n",
    "\n",
    "player_names = X_test['short_name']\n",
    "\n",
    "results = pd.DataFrame({\n",
    "    'Player': player_names,\n",
    "    'True Value': y_test,\n",
    "    'Predicted Value by RFR': y_pred_rfr,\n",
    "    'Predicted Value by LR': y_pred_lr,\n",
    "    'Predicted Value by SVR': y_pred_svr\n",
    "})\n",
    "\n"
   ],
   "outputs": [],
   "execution_count": 11
  },
  {
   "cell_type": "code",
   "id": "b0cbcecb",
   "metadata": {
    "ExecuteTime": {
     "end_time": "2025-05-03T11:54:44.351437Z",
     "start_time": "2025-05-03T11:54:41.788616Z"
    }
   },
   "source": "results.to_excel('output.xlsx')",
   "outputs": [],
   "execution_count": 12
  }
 ],
 "metadata": {
  "kernelspec": {
   "display_name": "Python 3",
   "language": "python",
   "name": "python3"
  },
  "language_info": {
   "codemirror_mode": {
    "name": "ipython",
    "version": 3
   },
   "file_extension": ".py",
   "mimetype": "text/x-python",
   "name": "python",
   "nbconvert_exporter": "python",
   "pygments_lexer": "ipython3",
   "version": "3.12.6"
  }
 },
 "nbformat": 4,
 "nbformat_minor": 5
}
